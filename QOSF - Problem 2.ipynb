{
 "cells": [
  {
   "cell_type": "markdown",
   "metadata": {},
   "source": [
    "# QOSF Problem-2: Optimizing Parametric Quantum Circuits"
   ]
  },
  {
   "cell_type": "markdown",
   "metadata": {},
   "source": [
    "In this program, we will use a parametric circuit to generate a state that will return $|01\\rangle$ and $|10\\rangle$ with equal probability. \n",
    "\n",
    "As a bonus, we will see also see how to generate the state $\\frac{1}{\\sqrt{2}}\\big(|01\\rangle + |10\\rangle\\big)$ explicitly, instead of an arbitrary state of the form $\\frac{1}{\\sqrt{2}}\\big(|01\\rangle + e^{i\\phi}|10\\rangle\\big)$. \n",
    "\n",
    "We will be coding using IBM's open-source Quantum SDK QISKit. "
   ]
  },
  {
   "cell_type": "code",
   "execution_count": 1,
   "metadata": {},
   "outputs": [],
   "source": [
    "import numpy as np \n",
    "np.random.seed(20)"
   ]
  },
  {
   "cell_type": "markdown",
   "metadata": {},
   "source": [
    "# Creating Parametric Circuit"
   ]
  },
  {
   "cell_type": "markdown",
   "metadata": {},
   "source": [
    "$|\\Psi^+\\rangle = \\frac{1}{\\sqrt{2}}\\big(|01\\rangle + |10\\rangle\\big)$ is a Bell-State, and, we can generate it from the $|00\\rangle$ state using the $\\textsf{H}, \\textsf{X}$ and $\\textsf{CX}$ gates. To parametrize this circuit, we will use the $\\textsf{R}_y(\\theta)$-gate in place of the $\\textsf{H}$-gate and the $\\textsf{R}_x(\\phi)$-gate in place of the $\\textsf{X}$-gate. Here, $\\theta$ and $\\phi$ are the parameters that we will find through optimization. "
   ]
  },
  {
   "cell_type": "markdown",
   "metadata": {},
   "source": [
    "Since, optimization has to be carried out by circuit-sampling... if we measure in the Computational-Basis, all states of the form $\\frac{1}{\\sqrt{2}}\\big(|01\\rangle + e^{i\\phi}|10\\rangle\\big)$ will achieve the required probability distribution. So, if we want to construct the state $\\frac{1}{\\sqrt{2}}\\big(|01\\rangle + |10\\rangle\\big)$ explicitly, we need to measure in the Bell-Basis. This is easily achieved by appending a $\\textsf{CX}$-gate and an $\\textsf{H}$-gate before the measurement operation. "
   ]
  },
  {
   "cell_type": "code",
   "execution_count": 2,
   "metadata": {},
   "outputs": [],
   "source": [
    "# we will be building and running circuits in Qiskit\n",
    "from qiskit import QuantumCircuit, ClassicalRegister, QuantumRegister"
   ]
  },
  {
   "cell_type": "markdown",
   "metadata": {},
   "source": [
    "**Note**: For the bonus problem, kindly uncomment the two lines for Bell-Basis measurement in the get_var_form() method below. "
   ]
  },
  {
   "cell_type": "code",
   "execution_count": 3,
   "metadata": {},
   "outputs": [
    {
     "data": {
      "image/png": "[encoded data removed]",
      "text/plain": [
       "<Figure size 479.192x204.68 with 1 Axes>"
      ]
     },
     "execution_count": 3,
     "metadata": {},
     "output_type": "execute_result"
    }
   ],
   "source": [
    "def get_var_form(params):\n",
    "    qc = QuantumCircuit(2, 2)\n",
    "    \n",
    "    qc.ry(params[0], 0)\n",
    "    qc.rx(params[1], 1)\n",
    "    \n",
    "    qc.cx(0, 1)\n",
    "    qc.barrier()\n",
    "    \n",
    "    # use bell-basis measurement if we want to make the exact state (|01> + |10>)\n",
    "    # uncomment the following two lines (qc.cx, qc.h) to do this\n",
    "    # qc.cx(0, 1)\n",
    "    # qc.h(0)\n",
    "    \n",
    "    qc.measure([0, 1], [0, 1])\n",
    "    \n",
    "    return qc\n",
    "\n",
    "params = np.random.rand(2)\n",
    "\n",
    "# visualizing complete circuit to check\n",
    "get_var_form(params).draw(output='mpl')"
   ]
  },
  {
   "cell_type": "markdown",
   "metadata": {},
   "source": [
    "## Target Distribution"
   ]
  },
  {
   "cell_type": "markdown",
   "metadata": {},
   "source": [
    "For the computational basis measurement, the target probability distribution will be $\\begin{bmatrix}0 &0.5 &0.5 &0\\end{bmatrix}^T$. To generate the exact state $\\frac{1}{\\sqrt{2}}\\big(|01\\rangle + |10\\rangle\\big)$, the target distribution *after* Bell-Basis measurement will be $\\begin{bmatrix}0 &1 &0 &0\\end{bmatrix}^T$."
   ]
  },
  {
   "cell_type": "code",
   "execution_count": 4,
   "metadata": {},
   "outputs": [],
   "source": [
    "# target distribution for computational-basis measurement\n",
    "target_distr = np.array([0, 0.5, 0.5, 0])"
   ]
  },
  {
   "cell_type": "markdown",
   "metadata": {},
   "source": [
    "**Note**: For the bonus problem, kindly uncomment the required line below. "
   ]
  },
  {
   "cell_type": "code",
   "execution_count": 16,
   "metadata": {},
   "outputs": [],
   "source": [
    "# target distribution for bell-basis measurement\n",
    "# uncomment this part for the bonus problem\n",
    "# target_distr = np.array([0, 1, 0, 0])"
   ]
  },
  {
   "cell_type": "markdown",
   "metadata": {},
   "source": [
    "# Optimization"
   ]
  },
  {
   "cell_type": "markdown",
   "metadata": {},
   "source": [
    "## Configuring Simulation Backend"
   ]
  },
  {
   "cell_type": "code",
   "execution_count": 5,
   "metadata": {},
   "outputs": [],
   "source": [
    "# Import Aer\n",
    "from qiskit import Aer, execute\n",
    "# Run the quantum circuit on a simulator backend\n",
    "backend = Aer.get_backend('qasm_simulator')"
   ]
  },
  {
   "cell_type": "markdown",
   "metadata": {},
   "source": [
    "## Configuring Noise Model"
   ]
  },
  {
   "cell_type": "markdown",
   "metadata": {},
   "source": [
    "We will be using the **IBMQ_London** device's Gate-Errors and Noise-paramters to run our simulation. "
   ]
  },
  {
   "cell_type": "code",
   "execution_count": 6,
   "metadata": {},
   "outputs": [],
   "source": [
    "# For Noise Simulations\n",
    "from qiskit.test import mock \n",
    "# this is the noise model of a REAL IBMQ device\n",
    "fake_device = mock.FakeLondon()\n",
    "\n",
    "# noise-model parameters to pass during simulation\n",
    "from qiskit.providers.aer.noise import NoiseModel\n",
    "noise_model = NoiseModel.from_backend(fake_device)\n",
    "coupling_map = fake_device.configuration().coupling_map\n",
    "basis_gates = noise_model.basis_gates"
   ]
  },
  {
   "cell_type": "markdown",
   "metadata": {},
   "source": [
    "## Creating Cost Function"
   ]
  },
  {
   "cell_type": "code",
   "execution_count": 7,
   "metadata": {},
   "outputs": [],
   "source": [
    "# function to generate probability distribution from the dictionary of simulation results\n",
    "def get_probability_distribution(counts):\n",
    "    output_distr = np.zeros(4)\n",
    "    \n",
    "    for i in range(4):\n",
    "        # generate reversed bit-string of i to access the counts dictionary\n",
    "        output_string = format(i, '02b')[::-1]\n",
    "        if output_string in counts:\n",
    "            output_distr[i] = counts[output_string]\n",
    "            # print(output_distr)\n",
    "    \n",
    "    # normalizing the probability distribution\n",
    "    output_distr = output_distr/np.sum(output_distr)\n",
    "    return output_distr"
   ]
  },
  {
   "cell_type": "code",
   "execution_count": 8,
   "metadata": {},
   "outputs": [],
   "source": [
    "# this is the cost-function\n",
    "def objective_function(params):\n",
    "    # Obtain a quantum circuit instance for the paramters\n",
    "    circ = get_var_form(params)    \n",
    "    \n",
    "    # Create a Quantum Program for execution with the given noise model\n",
    "    result = execute(circ, backend, shots=NUM_SHOTS, \n",
    "                    noise_model=noise_model, coupling_map=coupling_map, basis_gates=basis_gates).result()\n",
    "    \n",
    "    # Obtain the counts for each measured state, and convert those counts into a probability vector\n",
    "    output_distr = get_probability_distribution(result.get_counts())\n",
    "    \n",
    "    # Calculate the cost as the Manhattan Distance distance between the output distribution and the target distribution\n",
    "    cost = sum([np.abs(output_distr[i] - target_distr[i]) for i in range(4)])\n",
    "    \n",
    "    return cost"
   ]
  },
  {
   "cell_type": "code",
   "execution_count": 9,
   "metadata": {},
   "outputs": [
    {
     "data": {
      "text/plain": [
       "2.0"
      ]
     },
     "execution_count": 9,
     "metadata": {},
     "output_type": "execute_result"
    }
   ],
   "source": [
    "# checking if everything works\n",
    "NUM_SHOTS = 10\n",
    "objective_function([0.5, 0.5])"
   ]
  },
  {
   "cell_type": "markdown",
   "metadata": {},
   "source": [
    "# Configuring Optimizer"
   ]
  },
  {
   "cell_type": "code",
   "execution_count": 18,
   "metadata": {},
   "outputs": [],
   "source": [
    "# importing optimizers\n",
    "from qiskit.aqua.components.optimizers import COBYLA, SPSA, POWELL\n",
    "\n",
    "# Create the initial parameters (noting that our single qubit variational form has 3 parameters)\n",
    "INITIAL = np.array([0, 0])\n",
    "\n",
    "# bounds of the parameters\n",
    "BOUNDS = [(0, 2*np.pi)]*len(INITIAL)"
   ]
  },
  {
   "cell_type": "markdown",
   "metadata": {},
   "source": [
    "# Running Optimizer"
   ]
  },
  {
   "cell_type": "markdown",
   "metadata": {},
   "source": [
    "**Note**: If you want to see the results for any particular shots, kindly modify the SHOTS_LIST below. "
   ]
  },
  {
   "cell_type": "code",
   "execution_count": 21,
   "metadata": {},
   "outputs": [
    {
     "name": "stdout",
     "output_type": "stream",
     "text": [
      "Sampling Circuit 1 times.\n",
      "Circuit Optimized! 2 seconds elapsed.\n",
      "Sampling Circuit 10 times.\n",
      "Circuit Optimized! 5 seconds elapsed.\n",
      "Sampling Circuit 100 times.\n",
      "Circuit Optimized! 7 seconds elapsed.\n",
      "Sampling Circuit 1000 times.\n",
      "Circuit Optimized! 6 seconds elapsed.\n",
      "Sampling Circuit 2000 times.\n",
      "Circuit Optimized! 4 seconds elapsed.\n",
      "Sampling Circuit 5000 times.\n",
      "Circuit Optimized! 14 seconds elapsed.\n",
      "Sampling Circuit 7000 times.\n",
      "Circuit Optimized! 15 seconds elapsed.\n",
      "Sampling Circuit 10000 times.\n",
      "Circuit Optimized! 30 seconds elapsed.\n"
     ]
    }
   ],
   "source": [
    "# we will see how the error in the final probability distribution evolves with the no. of circuit samplings\n",
    "# modify this list if necessary\n",
    "SHOTS_LIST = [1, 10, 100, 1000, 2000, 5000, 7000, 10000]\n",
    "\n",
    "# importing time-library to time the simulation\n",
    "import time\n",
    "\n",
    "# all the simulation results will be stored in this list\n",
    "all_results = []\n",
    "for NUM_SHOTS in SHOTS_LIST:\n",
    "    print(\"Sampling Circuit\", NUM_SHOTS, \"times.\")\n",
    "    \n",
    "    # timing each simulation\n",
    "    start = time.time()\n",
    "    \n",
    "    # Initialize the POWELL optimizer\n",
    "    optimizer = POWELL() \n",
    "    \n",
    "    #optimize circuit\n",
    "    ret = optimizer.optimize(num_vars=2, objective_function=objective_function, \n",
    "                         variable_bounds=BOUNDS, initial_point=INITIAL)\n",
    "    \n",
    "    print(\"Circuit Optimized!\", round(time.time()-start), \"seconds elapsed.\")\n",
    "    all_results.append([NUM_SHOTS, ret[1], ret[0]])"
   ]
  },
  {
   "cell_type": "code",
   "execution_count": 24,
   "metadata": {},
   "outputs": [
    {
     "data": {
      "image/png": "[encoded data removed]",
      "text/plain": [
       "<Figure size 432x288 with 1 Axes>"
      ]
     },
     "metadata": {
      "needs_background": "light"
     },
     "output_type": "display_data"
    }
   ],
   "source": [
    "# plot the results for comparison \n",
    "from matplotlib import pyplot as plt\n",
    "\n",
    "error = [all_results[i][1] for i in range(len(SHOTS_LIST))]\n",
    "\n",
    "plt.plot(SHOTS_LIST, error, marker='o')\n",
    "plt.xscale('log')\n",
    "plt.xlabel('number of shots (log-scale)')\n",
    "plt.ylabel('final error')\n",
    "plt.title('Evolution of Error with no. of Shots')\n",
    "plt.show()"
   ]
  },
  {
   "cell_type": "markdown",
   "metadata": {},
   "source": [
    "## Additional"
   ]
  },
  {
   "cell_type": "markdown",
   "metadata": {},
   "source": [
    "To see the output results and metrics for a particular simulation, the following code-block may be used. Just replace \"i\" below with the corresponding index of the shot-number in the SHOTS_LIST, that you want to see the results for. "
   ]
  },
  {
   "cell_type": "code",
   "execution_count": 23,
   "metadata": {
    "scrolled": true
   },
   "outputs": [
    {
     "name": "stdout",
     "output_type": "stream",
     "text": [
      "No. of Shots:  100\n",
      "Target Distribution: [0.  0.5 0.5 0. ]\n",
      "Obtained Distribution: [0.0483 0.4524 0.4905 0.0088]\n",
      "Output Error (Manhattan Distance): 0.1142\n",
      "Parameters Found: [1.48891422 0.9842754 ] \b*pi\n"
     ]
    }
   ],
   "source": [
    "# give the index of the NUM_SHOTS in the SHOTS_LIST that you want to see the resuls for\n",
    "i = 2\n",
    "result = all_results[i]\n",
    "\n",
    "# run circuits for the given parameters\n",
    "qc = get_var_form(result[2])\n",
    "counts = execute(qc, backend, shots=NUM_SHOTS, \n",
    "                    noise_model=noise_model, coupling_map=coupling_map, basis_gates=basis_gates).result().get_counts(qc)\n",
    "\n",
    "# Obtain the output distribution using the final parameters\n",
    "output_distr = get_probability_distribution(counts)\n",
    "\n",
    "print(\"No. of Shots: \", result[0])\n",
    "print(\"Target Distribution:\", target_distr)\n",
    "print(\"Obtained Distribution:\", output_distr)\n",
    "print(\"Output Error (Manhattan Distance):\", np.sum(np.abs(target_distr-output_distr)))\n",
    "print(\"Parameters Found:\", (result[2]/np.pi)%2, \"\\b*pi\")"
   ]
  },
  {
   "cell_type": "code",
   "execution_count": null,
   "metadata": {},
   "outputs": [],
   "source": []
  },
  {
   "cell_type": "markdown",
   "metadata": {},
   "source": [
    "## References\n",
    "[1] Quantum Computation and Quantum Information, M. A. Nielsen & I. L. Chuang \n",
    "\n",
    "[2] Simulating Molecules using VQE, Qiskit Textbook "
   ]
  }
 ],
 "metadata": {
  "kernelspec": {
   "display_name": "Python 3",
   "language": "python",
   "name": "python3"
  },
  "language_info": {
   "codemirror_mode": {
    "name": "ipython",
    "version": 3
   },
   "file_extension": ".py",
   "mimetype": "text/x-python",
   "name": "python",
   "nbconvert_exporter": "python",
   "pygments_lexer": "ipython3",
   "version": "3.7.7"
  }
 },
 "nbformat": 4,
 "nbformat_minor": 4
}
