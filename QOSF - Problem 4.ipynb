{
 "cells": [
  {
   "cell_type": "markdown",
   "metadata": {},
   "source": [
    "# QOSF Problem-4: The VQE Algorithm (from scratch)"
   ]
  },
  {
   "cell_type": "markdown",
   "metadata": {},
   "source": [
    "The following code can be used to find the minimum eigenvalue of **any** 2-qubit Hamiltonian using the Variational Quantum Eigensolver (VQE) algorithm. We will be coding using IBM's open-source Quantum SDK QISKit. "
   ]
  },
  {
   "cell_type": "code",
   "execution_count": 1,
   "metadata": {},
   "outputs": [],
   "source": [
    "import numpy as np \n",
    "np.random.seed(20)"
   ]
  },
  {
   "cell_type": "markdown",
   "metadata": {},
   "source": [
    "## Hamiltonian"
   ]
  },
  {
   "cell_type": "code",
   "execution_count": 2,
   "metadata": {},
   "outputs": [
    {
     "name": "stdout",
     "output_type": "stream",
     "text": [
      "[[ 1.  0.  0.  0.]\n",
      " [ 0.  0. -1.  0.]\n",
      " [ 0. -1.  0.  0.]\n",
      " [ 0.  0.  0.  1.]]\n"
     ]
    }
   ],
   "source": [
    "# building the Hamiltonian \n",
    "# this code will work for any 2-qubit (4x4) Hamiltonian\n",
    "\n",
    "H = np.zeros((4, 4))\n",
    "H[0][0], H[1][2], H[2][1], H[3][3] = 1, -1, -1, 1\n",
    "print(H)"
   ]
  },
  {
   "cell_type": "markdown",
   "metadata": {},
   "source": [
    "Now, we will decompose the Hamiltonian into Pauli terms. Any 2-qubit Hamiltoninan $\\textsf{H}$ can be written as a sum of Pauli-strings as follows - \n",
    "$$\\displaystyle \\textsf{H} = \\sum_{i, j=0}^3 a_{ij}\\textsf{P}_i\\otimes\\textsf{P}_j$$where, $(\\textsf{P}_0, \\textsf{P}_1, \\textsf{P}_2, \\textsf{P}_3) = (\\textsf{I}, \\textsf{X}, \\textsf{Y}, \\textsf{Z})$.\n",
    "\n",
    "Then, using the Hilbert-Schmidt Inner Product (or, Trace Inner Product), we can write - $$a_{ij} = \\frac{1}{4}{\\rm Tr}\\,\\left[(\\textsf{P}_i\\otimes\\textsf{P}_j)\\textsf{H}\\right]$$"
   ]
  },
  {
   "cell_type": "code",
   "execution_count": 3,
   "metadata": {},
   "outputs": [
    {
     "name": "stdout",
     "output_type": "stream",
     "text": [
      "[[1 0]\n",
      " [0 1]] \n",
      " [[0 1]\n",
      " [1 0]] \n",
      " [[ 0.+0.j -0.-1.j]\n",
      " [ 0.+1.j  0.+0.j]] \n",
      " [[ 1  0]\n",
      " [ 0 -1]]\n"
     ]
    }
   ],
   "source": [
    "# creating the list of Pauli Matrices\n",
    "I = np.array([[1, 0], [0, 1]])\n",
    "X = np.array([[0, 1], [1, 0]])\n",
    "Y = np.array([[0, -1j], [1j, 0]])\n",
    "Z = np.array([[1, 0], [0, -1]])\n",
    "\n",
    "PAULI = [I, X, Y, Z]\n",
    "\n",
    "print(I,'\\n', X,'\\n', Y,'\\n', Z)"
   ]
  },
  {
   "cell_type": "code",
   "execution_count": 4,
   "metadata": {},
   "outputs": [
    {
     "name": "stdout",
     "output_type": "stream",
     "text": [
      "[[ 0.5+0.j  0. +0.j  0. +0.j  0. +0.j]\n",
      " [ 0. +0.j -0.5+0.j  0. +0.j  0. +0.j]\n",
      " [ 0. +0.j  0. +0.j -0.5+0.j  0. +0.j]\n",
      " [ 0. +0.j  0. +0.j  0. +0.j  0.5+0.j]]\n"
     ]
    }
   ],
   "source": [
    "# finding the Pauli-coefficients using the Trace Inner Product \n",
    "\n",
    "dim = (4, 4)\n",
    "\n",
    "# coeficients matrix \n",
    "coeffs = np.zeros(dim)*1j\n",
    "\n",
    "for i in range(dim[0]):\n",
    "    for j in range(dim[1]):\n",
    "        \n",
    "        # trace inner product\n",
    "        coeffs[i][j] = np.trace(np.kron(PAULI[i], PAULI[j])@H)/4\n",
    "\n",
    "print(coeffs)"
   ]
  },
  {
   "cell_type": "markdown",
   "metadata": {},
   "source": [
    "We will use Numpy's linear algebra module to find the actual eigenvalues. This will serve as a reference to find the error in our computed value. "
   ]
  },
  {
   "cell_type": "code",
   "execution_count": 5,
   "metadata": {},
   "outputs": [
    {
     "name": "stdout",
     "output_type": "stream",
     "text": [
      "All Eigenvalues [ 1. -1.  1.  1.]\n",
      "Minimum Eigenvalue: -1.0\n"
     ]
    }
   ],
   "source": [
    "eigs = np.linalg.eigvals(H)\n",
    "min_eig = np.amin(eigs)\n",
    "print('All Eigenvalues', eigs)\n",
    "print('Minimum Eigenvalue:', min_eig)"
   ]
  },
  {
   "cell_type": "code",
   "execution_count": 6,
   "metadata": {},
   "outputs": [
    {
     "data": {
      "text/plain": [
       "(array([ 1., -1.,  1.,  1.]),\n",
       " array([[ 0.        ,  0.        ,  1.        ,  0.        ],\n",
       "        [-0.70710678,  0.70710678,  0.        ,  0.        ],\n",
       "        [ 0.70710678,  0.70710678,  0.        ,  0.        ],\n",
       "        [ 0.        ,  0.        ,  0.        ,  1.        ]]))"
      ]
     },
     "execution_count": 6,
     "metadata": {},
     "output_type": "execute_result"
    }
   ],
   "source": [
    "np.linalg.eig(H)"
   ]
  },
  {
   "cell_type": "markdown",
   "metadata": {},
   "source": [
    "For the given Hamiltonian, the lowest eigenvalue is $(-1)$, which occurs for the state - \n",
    "$$\\begin{bmatrix}0\\\\ 1/\\sqrt{2} \\\\ 1/\\sqrt{2} \\\\0\\end{bmatrix} = \\frac{1}{\\sqrt{2}}|10\\rangle + \\frac{1}{\\sqrt{2}}|01\\rangle$$ "
   ]
  },
  {
   "cell_type": "markdown",
   "metadata": {},
   "source": [
    "## Creating Ansatz"
   ]
  },
  {
   "cell_type": "code",
   "execution_count": 7,
   "metadata": {},
   "outputs": [],
   "source": [
    "# we will be building and running circuits in Qiskit\n",
    "from qiskit import QuantumCircuit, ClassicalRegister, QuantumRegister"
   ]
  },
  {
   "cell_type": "code",
   "execution_count": 8,
   "metadata": {},
   "outputs": [
    {
     "data": {
      "image/png": "[encoded data removed]",
      "text/plain": [
       "<Figure size 418.992x144.48 with 1 Axes>"
      ]
     },
     "execution_count": 8,
     "metadata": {},
     "output_type": "execute_result"
    }
   ],
   "source": [
    "# creating ansatz circuit \n",
    "def get_ansatz(param):\n",
    "    circ = QuantumCircuit(2)\n",
    "    \n",
    "    circ.h(0)\n",
    "    circ.cx(0, 1)\n",
    "    circ.rx(param[0], 1)\n",
    "    \n",
    "    circ.barrier()\n",
    "    \n",
    "    return circ\n",
    "\n",
    "# checking circuit\n",
    "get_ansatz([0.5]).draw(output='mpl')"
   ]
  },
  {
   "cell_type": "code",
   "execution_count": 9,
   "metadata": {},
   "outputs": [],
   "source": [
    "# generating the VQE Measurement Circuit for a Pauli String\n",
    "def get_measurement_circuit(string):\n",
    "    \"\"\"Generates a Pauli-Measurement Circuit.\n",
    "        :string: is a 2-element list or tuple, indicating the measurement-basis of the corresponding qubit\n",
    "        input the following numbers for the corresponding basis - \n",
    "        0 - I, 1 - X, 2 - Y, 3 - Z\"\"\"\n",
    "\n",
    "    meas = QuantumCircuit(2, 2)\n",
    "    \n",
    "    for i in range(len(string)):\n",
    "        if string[i]==1:\n",
    "            # measuring in X-basis\n",
    "            meas.h(i)\n",
    "        elif string[i]==2:\n",
    "            # measuring in Z-basis \n",
    "            meas.u2(0, (np.pi)/2, i)\n",
    "    \n",
    "    # default measurement is in Z-basis\n",
    "    # so, don;t have to do anything for string[i]=3\n",
    "\n",
    "    meas.measure([0, 1], [0, 1])\n",
    "    \n",
    "    return meas"
   ]
  },
  {
   "cell_type": "code",
   "execution_count": 10,
   "metadata": {},
   "outputs": [
    {
     "data": {
      "image/png": "[encoded data removed]",
      "text/plain": [
       "<Figure size 659.792x204.68 with 1 Axes>"
      ]
     },
     "execution_count": 10,
     "metadata": {},
     "output_type": "execute_result"
    }
   ],
   "source": [
    "# generating a measurement circuit for YY measurement to check \n",
    "(get_ansatz([0.5]) + get_measurement_circuit([2, 2])).draw(output='mpl')"
   ]
  },
  {
   "cell_type": "markdown",
   "metadata": {},
   "source": [
    "# Optimization"
   ]
  },
  {
   "cell_type": "markdown",
   "metadata": {},
   "source": [
    "## Configuring the Simulator"
   ]
  },
  {
   "cell_type": "code",
   "execution_count": 11,
   "metadata": {},
   "outputs": [],
   "source": [
    "# Import Aer - qiskit's simulation module\n",
    "from qiskit import Aer, execute\n",
    "# Run the quantum circuit on a simulator backend\n",
    "backend = Aer.get_backend('qasm_simulator')"
   ]
  },
  {
   "cell_type": "markdown",
   "metadata": {},
   "source": [
    "## Cost Function"
   ]
  },
  {
   "cell_type": "code",
   "execution_count": 12,
   "metadata": {},
   "outputs": [
    {
     "data": {
      "text/plain": [
       "array([0. , 0. , 0.5, 0.5])"
      ]
     },
     "execution_count": 12,
     "metadata": {},
     "output_type": "execute_result"
    }
   ],
   "source": [
    "# making a 4-element probability vector from qiskit's dictionary of simulation results\n",
    "\n",
    "def get_probability_distribution(counts):\n",
    "    output_distr = np.zeros(4)\n",
    "    \n",
    "    for i in range(4):\n",
    "        # generate reversed bit-string of i to access the counts dictionary\n",
    "        output_string = format(i, '02b')[::-1]\n",
    "        if output_string in counts:\n",
    "            output_distr[i] = counts[output_string]\n",
    "            # print(output_distr)\n",
    "    \n",
    "    # normalizing the probability distribution\n",
    "    output_distr = output_distr/np.sum(output_distr)\n",
    "    return output_distr\n",
    "\n",
    "# checking\n",
    "count = {'01': 500, '11':500}\n",
    "get_probability_distribution(count)"
   ]
  },
  {
   "cell_type": "code",
   "execution_count": 13,
   "metadata": {},
   "outputs": [
    {
     "name": "stdout",
     "output_type": "stream",
     "text": [
      "[array([1, 1]), array([ 1, -1]), array([ 1, -1]), array([ 1, -1])]\n"
     ]
    }
   ],
   "source": [
    "# list of eigen-values of each Pauli-Matrix and I\n",
    "# we will need them to add the outcome probabilites with the required sign\n",
    "pauli_eigen = [np.array([1, 1]), np.array([1, -1]), np.array([1, -1]), np.array([1, -1])]\n",
    "print(pauli_eigen)"
   ]
  },
  {
   "cell_type": "code",
   "execution_count": 14,
   "metadata": {},
   "outputs": [],
   "source": [
    "# this is the cost-function\n",
    "def objective_function(params):\n",
    "    \"\"\"Outputs the expectation value of the Hamiltonian for the state \n",
    "    corresponding to the parameters (params)\"\"\"\n",
    "    \n",
    "    # Obtain a quantum circuit instance from the paramters\n",
    "    circ = get_ansatz(params)\n",
    "    \n",
    "    cost = 0\n",
    "    for i in range(dim[0]): \n",
    "        for j in range(dim[1]):\n",
    "            # no-need to simulate if the Pauli-Weight is 0\n",
    "            if coeffs[i][j]==0:\n",
    "                continue\n",
    "            \n",
    "            # Obtain a measurement circuit for the Pauli-string\n",
    "            test = circ + get_measurement_circuit([i, j])    \n",
    "\n",
    "            # Create a Quantum Program for execution\n",
    "            result = execute(test, backend, shots=NUM_SHOTS).result()\n",
    "\n",
    "            # Obtain the counts for each measured state, and convert those counts into a probability vector\n",
    "            output_distr = get_probability_distribution(result.get_counts())\n",
    "            # print('Output Distribution', output_distr)\n",
    "            \n",
    "            # computing the sign vector to add the probabilities\n",
    "            sign_vector = np.kron(pauli_eigen[i], pauli_eigen[j])\n",
    "            # print('Sign Vector', sign_vector)\n",
    "                        \n",
    "            cost += coeffs[i][j]*(np.dot(sign_vector, output_distr))\n",
    "            # print('Present cost is', cost, '\\n')\n",
    "    \n",
    "    return cost.real"
   ]
  },
  {
   "cell_type": "code",
   "execution_count": 15,
   "metadata": {},
   "outputs": [
    {
     "data": {
      "text/plain": [
       "-1.0"
      ]
     },
     "execution_count": 15,
     "metadata": {},
     "output_type": "execute_result"
    }
   ],
   "source": [
    "# checking if the cost-function works\n",
    "NUM_SHOTS = 1000\n",
    "objective_function([np.pi])"
   ]
  },
  {
   "cell_type": "markdown",
   "metadata": {},
   "source": [
    "## Configuring Optimizer"
   ]
  },
  {
   "cell_type": "code",
   "execution_count": 16,
   "metadata": {},
   "outputs": [],
   "source": [
    "from qiskit.aqua.components.optimizers import COBYLA, SPSA\n",
    "import time\n",
    "\n",
    "# Initialize the Contrained Optimization BY Linear Approximation (COBYLA) optimizer\n",
    "optimizer = COBYLA(maxiter=1000)\n",
    "\n",
    "# Create the initial parameters\n",
    "INITIAL = np.random.rand(1)\n",
    "\n",
    "# bounds of the parameters\n",
    "BOUNDS = [(0, 2*np.pi)]*len(INITIAL)"
   ]
  },
  {
   "cell_type": "code",
   "execution_count": 17,
   "metadata": {},
   "outputs": [
    {
     "name": "stdout",
     "output_type": "stream",
     "text": [
      "Sampling Circuit 500 times.\n",
      "Circuit Optimized! 0 seconds elapsed.\n",
      "\n",
      "Value of parameter [1.00287693]*pi\n",
      " Minimum eigenvalue -1.0 \n",
      "\n",
      "Error =  0.0 %\n"
     ]
    }
   ],
   "source": [
    "NUM_SHOTS = 500\n",
    "print(\"Sampling Circuit\", NUM_SHOTS, \"times.\")\n",
    "\n",
    "# timing simulation\n",
    "start = time.time()\n",
    "\n",
    "# optimize circuit\n",
    "ret = optimizer.optimize(num_vars=len(INITIAL), objective_function=objective_function, \n",
    "                     initial_point=INITIAL)\n",
    "\n",
    "print(\"Circuit Optimized!\", round(time.time()-start), \"seconds elapsed.\\n\")\n",
    "\n",
    "print('Value of parameter', (ret[0]/np.pi)%2, '\\b*pi\\n', 'Minimum eigenvalue', ret[1],'\\n')\n",
    "print('Error = ', np.abs((ret[1]-min_eig)/min_eig), '%')"
   ]
  },
  {
   "cell_type": "markdown",
   "metadata": {},
   "source": [
    "## References\n",
    "[1] Quantum Computation and Quantum Information, M. A. Nielsen & I. L. Chuang \n",
    "\n",
    "[2] Simulating Molecules using VQE, Qiskit Textbook \n",
    "\n",
    "[3] Variational Quantum Eigensolver, Davit Khachatryan"
   ]
  },
  {
   "cell_type": "code",
   "execution_count": null,
   "metadata": {},
   "outputs": [],
   "source": []
  }
 ],
 "metadata": {
  "kernelspec": {
   "display_name": "Python 3",
   "language": "python",
   "name": "python3"
  },
  "language_info": {
   "codemirror_mode": {
    "name": "ipython",
    "version": 3
   },
   "file_extension": ".py",
   "mimetype": "text/x-python",
   "name": "python",
   "nbconvert_exporter": "python",
   "pygments_lexer": "ipython3",
   "version": "3.7.7"
  }
 },
 "nbformat": 4,
 "nbformat_minor": 4
}
